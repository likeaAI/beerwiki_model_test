{
 "cells": [
  {
   "cell_type": "code",
   "execution_count": 20,
   "id": "b26bca28",
   "metadata": {},
   "outputs": [],
   "source": [
    "from tensorflow.keras.datasets   import boston_housing , mnist , fashion_mnist\n",
    "from tensorflow.keras.models     import Sequential , clone_model , Model , load_model\n",
    "from tensorflow.keras.layers     import Dense , Activation , InputLayer , Flatten , Input , BatchNormalization , Dropout , Embedding\n",
    "\n",
    "# CNN\n",
    "from tensorflow.keras.layers     import Conv2D , MaxPooling2D , AveragePooling2D\n",
    "\n",
    "from tensorflow.keras            import optimizers  \n",
    "from tensorflow.keras.callbacks  import EarlyStopping , ModelCheckpoint , Callback\n",
    "from tensorflow.keras.optimizers import SGD , Adam , RMSprop\n",
    "\n",
    "# 이미지 로드\n",
    "from tensorflow.keras.preprocessing import image\n",
    "from tensorflow.keras.preprocessing.image import ImageDataGenerator \n",
    "\n",
    "# 자연어 처리\n",
    "from tensorflow.keras.preprocessing.text          import Tokenizer\n",
    "from tensorflow.keras.preprocessing.sequence      import pad_sequences\n",
    "\n",
    "from keras.utils.np_utils      import to_categorical\n",
    "\n",
    "from sklearn.datasets          import load_iris , load_breast_cancer , load_digits\n",
    "from sklearn.model_selection   import train_test_split\n",
    "\n",
    "import matplotlib.pyplot as plt\n",
    "\n",
    "import tensorflow as tf\n",
    "import numpy  as np\n",
    "import pandas as pd\n"
   ]
  },
  {
   "cell_type": "code",
   "execution_count": 21,
   "id": "f04205fa",
   "metadata": {},
   "outputs": [
    {
     "name": "stdout",
     "output_type": "stream",
     "text": [
      "Found 5506 images belonging to 33 classes.\n"
     ]
    }
   ],
   "source": [
    "train_img_generator = ImageDataGenerator(rescale=1/255,\n",
    "                                        rotation_range=40,\n",
    "                                        width_shift_range=0.2,\n",
    "                                        height_shift_range=0.2,\n",
    "                                        shear_range=0.2,\n",
    "                                        zoom_range=0.2,\n",
    "                                        horizontal_flip=True,\n",
    "                                        fill_mode='nearest')\n",
    "train_generator = train_img_generator.flow_from_directory(\n",
    "    'C:/Users/crid2/ml-data/beertest/train' , \n",
    "    target_size = (200, 200) , \n",
    "    batch_size  = 20 ,\n",
    "    class_mode = 'categorical'\n",
    ")"
   ]
  },
  {
   "cell_type": "code",
   "execution_count": null,
   "id": "628899ee",
   "metadata": {},
   "outputs": [],
   "source": [
    "train_generatornerator"
   ]
  },
  {
   "cell_type": "code",
   "execution_count": 22,
   "id": "0beea814",
   "metadata": {},
   "outputs": [
    {
     "name": "stdout",
     "output_type": "stream",
     "text": [
      "Found 527 images belonging to 33 classes.\n"
     ]
    }
   ],
   "source": [
    "test_img_generator = ImageDataGenerator(rescale=1/255,\n",
    "                                        rotation_range=40,\n",
    "                                        width_shift_range=0.2,\n",
    "                                        height_shift_range=0.2,\n",
    "                                        shear_range=0.2,\n",
    "                                        zoom_range=0.2,\n",
    "                                        horizontal_flip=True,\n",
    "                                        fill_mode='nearest')\n",
    "test_generator = test_img_generator.flow_from_directory(\n",
    "    'C:/Users/crid2/ml-data/beertest/test' , \n",
    "    target_size = (200, 200) , \n",
    "    batch_size  = 20 ,\n",
    "    class_mode = 'categorical'\n",
    ")"
   ]
  },
  {
   "cell_type": "code",
   "execution_count": 23,
   "id": "a88b6467",
   "metadata": {},
   "outputs": [],
   "source": [
    "def img_model() :\n",
    "  img_model = Sequential()\n",
    "\n",
    "  img_model.add( Conv2D(input_shape = (200, 200, 3) , filters = 16 , kernel_size = (3,3) , strides = (1,1) , padding = 'valid') )\n",
    "  img_model.add( Activation('relu'))\n",
    "  img_model.add( MaxPooling2D(pool_size = (2,2) , padding = 'valid' ) )\n",
    "  img_model.add( Dropout(0.25) )\n",
    "      \n",
    "  img_model.add( Conv2D(filters = 32 , kernel_size = (3,3) , strides = (1,1) , padding = 'valid') )\n",
    "  img_model.add( Activation('relu'))\n",
    "  img_model.add( MaxPooling2D(pool_size = (2,2) , padding = 'valid' ) )\n",
    "  img_model.add( Dropout(0.25) )\n",
    "\n",
    "  img_model.add( Conv2D(filters = 64 , kernel_size = (3,3) , strides = (1,1) , padding = 'valid') )\n",
    "  img_model.add( Activation('relu'))\n",
    "  img_model.add( MaxPooling2D(pool_size = (2,2) , padding = 'valid' ) )\n",
    "  img_model.add( Dropout(0.25) )\n",
    "\n",
    "  img_model.add( Conv2D(filters = 64 , kernel_size = (3,3) , strides = (1,1) , padding = 'valid') )\n",
    "  img_model.add( Activation('relu'))\n",
    "  img_model.add( MaxPooling2D(pool_size = (2,2) , padding = 'valid' ) )\n",
    "  img_model.add( Dropout(0.25) )\n",
    "\n",
    "  img_model.add( Flatten() )\n",
    "  img_model.add( Dense(units = 512) )\n",
    "  img_model.add( Activation('relu') )\n",
    "  img_model.add( Dropout(0.25) )\n",
    "  \n",
    "  img_model.add( Dense(units = 33) )\n",
    "  img_model.add( Activation('softmax') )\n",
    "\n",
    "  return img_model \n"
   ]
  },
  {
   "cell_type": "code",
   "execution_count": 24,
   "id": "b77fc1ae",
   "metadata": {},
   "outputs": [
    {
     "name": "stdout",
     "output_type": "stream",
     "text": [
      "Model: \"sequential_1\"\n",
      "_________________________________________________________________\n",
      " Layer (type)                Output Shape              Param #   \n",
      "=================================================================\n",
      " conv2d_4 (Conv2D)           (None, 198, 198, 16)      448       \n",
      "                                                                 \n",
      " activation_6 (Activation)   (None, 198, 198, 16)      0         \n",
      "                                                                 \n",
      " max_pooling2d_4 (MaxPooling  (None, 99, 99, 16)       0         \n",
      " 2D)                                                             \n",
      "                                                                 \n",
      " dropout_5 (Dropout)         (None, 99, 99, 16)        0         \n",
      "                                                                 \n",
      " conv2d_5 (Conv2D)           (None, 97, 97, 32)        4640      \n",
      "                                                                 \n",
      " activation_7 (Activation)   (None, 97, 97, 32)        0         \n",
      "                                                                 \n",
      " max_pooling2d_5 (MaxPooling  (None, 48, 48, 32)       0         \n",
      " 2D)                                                             \n",
      "                                                                 \n",
      " dropout_6 (Dropout)         (None, 48, 48, 32)        0         \n",
      "                                                                 \n",
      " conv2d_6 (Conv2D)           (None, 46, 46, 64)        18496     \n",
      "                                                                 \n",
      " activation_8 (Activation)   (None, 46, 46, 64)        0         \n",
      "                                                                 \n",
      " max_pooling2d_6 (MaxPooling  (None, 23, 23, 64)       0         \n",
      " 2D)                                                             \n",
      "                                                                 \n",
      " dropout_7 (Dropout)         (None, 23, 23, 64)        0         \n",
      "                                                                 \n",
      " conv2d_7 (Conv2D)           (None, 21, 21, 64)        36928     \n",
      "                                                                 \n",
      " activation_9 (Activation)   (None, 21, 21, 64)        0         \n",
      "                                                                 \n",
      " max_pooling2d_7 (MaxPooling  (None, 10, 10, 64)       0         \n",
      " 2D)                                                             \n",
      "                                                                 \n",
      " dropout_8 (Dropout)         (None, 10, 10, 64)        0         \n",
      "                                                                 \n",
      " flatten_1 (Flatten)         (None, 6400)              0         \n",
      "                                                                 \n",
      " dense_2 (Dense)             (None, 512)               3277312   \n",
      "                                                                 \n",
      " activation_10 (Activation)  (None, 512)               0         \n",
      "                                                                 \n",
      " dropout_9 (Dropout)         (None, 512)               0         \n",
      "                                                                 \n",
      " dense_3 (Dense)             (None, 33)                16929     \n",
      "                                                                 \n",
      " activation_11 (Activation)  (None, 33)                0         \n",
      "                                                                 \n",
      "=================================================================\n",
      "Total params: 3,354,753\n",
      "Trainable params: 3,354,753\n",
      "Non-trainable params: 0\n",
      "_________________________________________________________________\n"
     ]
    }
   ],
   "source": [
    "model = img_model()\n",
    "model.summary()"
   ]
  },
  {
   "cell_type": "code",
   "execution_count": 25,
   "id": "7ce8c2bb",
   "metadata": {
    "scrolled": true
   },
   "outputs": [
    {
     "name": "stderr",
     "output_type": "stream",
     "text": [
      "C:\\Users\\crid2\\anaconda3\\lib\\site-packages\\keras\\optimizer_v2\\rmsprop.py:130: UserWarning: The `lr` argument is deprecated, use `learning_rate` instead.\n",
      "  super(RMSprop, self).__init__(name, **kwargs)\n"
     ]
    }
   ],
   "source": [
    "model.compile(optimizer = RMSprop(lr = 0.001), \n",
    "                      loss= 'categorical_crossentropy' , \n",
    "                      metrics=['accuracy'] ) "
   ]
  },
  {
   "cell_type": "code",
   "execution_count": 33,
   "id": "db9b328d",
   "metadata": {},
   "outputs": [
    {
     "name": "stdout",
     "output_type": "stream",
     "text": [
      "Epoch 1/10\n",
      "276/276 [==============================] - 97s 351ms/step - loss: 1.0365 - accuracy: 0.7319 - val_loss: 1.3193 - val_accuracy: 0.6300\n",
      "Epoch 2/10\n",
      "276/276 [==============================] - 103s 374ms/step - loss: 1.0197 - accuracy: 0.7368 - val_loss: 1.2740 - val_accuracy: 0.6357\n",
      "Epoch 3/10\n",
      "276/276 [==============================] - 101s 366ms/step - loss: 0.9839 - accuracy: 0.7434 - val_loss: 1.3608 - val_accuracy: 0.6205\n",
      "Epoch 4/10\n",
      "276/276 [==============================] - 97s 352ms/step - loss: 1.0156 - accuracy: 0.7475 - val_loss: 1.0219 - val_accuracy: 0.7059\n",
      "Epoch 5/10\n",
      "276/276 [==============================] - 94s 342ms/step - loss: 0.9894 - accuracy: 0.7490 - val_loss: 1.1636 - val_accuracy: 0.6755\n",
      "Epoch 6/10\n",
      "276/276 [==============================] - 95s 343ms/step - loss: 1.0465 - accuracy: 0.7417 - val_loss: 1.3440 - val_accuracy: 0.6281\n",
      "Epoch 7/10\n",
      "276/276 [==============================] - 99s 358ms/step - loss: 1.0136 - accuracy: 0.7421 - val_loss: 1.0824 - val_accuracy: 0.6907\n",
      "Epoch 8/10\n",
      "276/276 [==============================] - 102s 371ms/step - loss: 1.0036 - accuracy: 0.7532 - val_loss: 1.2229 - val_accuracy: 0.6698\n",
      "Epoch 9/10\n",
      "276/276 [==============================] - 104s 378ms/step - loss: 1.0526 - accuracy: 0.7512 - val_loss: 0.9860 - val_accuracy: 0.7400\n",
      "Epoch 10/10\n",
      "276/276 [==============================] - 100s 361ms/step - loss: 1.0199 - accuracy: 0.7548 - val_loss: 1.3022 - val_accuracy: 0.6509\n"
     ]
    }
   ],
   "source": [
    "model_history = model.fit(train_generator, validation_data=test_generator, epochs = 10  , verbose = 1 )"
   ]
  },
  {
   "cell_type": "code",
   "execution_count": 34,
   "id": "b7853714",
   "metadata": {},
   "outputs": [
    {
     "name": "stdout",
     "output_type": "stream",
     "text": [
      "모델 저장\n"
     ]
    }
   ],
   "source": [
    "print('모델 저장')\n",
    "model.save('example-multi-case.h5')"
   ]
  },
  {
   "cell_type": "code",
   "execution_count": 35,
   "id": "e1d2ce12",
   "metadata": {},
   "outputs": [
    {
     "data": {
      "image/png": "[encoded data removed]",
      "text/plain": [
       "<Figure size 432x288 with 1 Axes>"
      ]
     },
     "metadata": {
      "needs_background": "light"
     },
     "output_type": "display_data"
    },
    {
     "data": {
      "image/png": "[encoded data removed]",
      "text/plain": [
       "<Figure size 432x288 with 1 Axes>"
      ]
     },
     "metadata": {
      "needs_background": "light"
     },
     "output_type": "display_data"
    }
   ],
   "source": [
    "import matplotlib.pyplot as plt\n",
    "\n",
    "acc = model_history.history['accuracy']\n",
    "val_acc = model_history.history['val_accuracy']\n",
    "loss = model_history.history['loss']\n",
    "val_loss = model_history.history['val_loss']\n",
    "\n",
    "epochs = range(len(acc))\n",
    "\n",
    "plt.plot(epochs, acc, 'bo', label='Training accuracy')\n",
    "plt.plot(epochs, val_acc, 'b', label='Validation accuracy')\n",
    "plt.title('Training and validation accuracy')\n",
    "plt.legend()\n",
    "\n",
    "plt.figure()\n",
    "\n",
    "plt.plot(epochs, loss, 'go', label='Training Loss')\n",
    "plt.plot(epochs, val_loss, 'g', label='Validation Loss')\n",
    "plt.title('Training and validation loss')\n",
    "plt.legend()\n",
    "\n",
    "plt.show()"
   ]
  },
  {
   "cell_type": "code",
   "execution_count": 36,
   "id": "abfb949a",
   "metadata": {},
   "outputs": [
    {
     "name": "stdout",
     "output_type": "stream",
     "text": [
      "INFO:tensorflow:Assets written to: C:\\Users\\crid2\\AppData\\Local\\Temp\\tmpguobfgit\\assets\n"
     ]
    },
    {
     "name": "stderr",
     "output_type": "stream",
     "text": [
      "INFO:tensorflow:Assets written to: C:\\Users\\crid2\\AppData\\Local\\Temp\\tmpguobfgit\\assets\n",
      "WARNING:absl:Buffer deduplication procedure will be skipped when flatbuffer library is not properly loaded\n"
     ]
    }
   ],
   "source": [
    "# Converting a SavedModel to a TensorFlow Lite model.\n",
    "converter = tf.lite.TFLiteConverter.from_keras_model(model)\n",
    "tflite_model = converter.convert()"
   ]
  },
  {
   "cell_type": "code",
   "execution_count": 37,
   "id": "797cbdf8",
   "metadata": {},
   "outputs": [],
   "source": [
    "with open('C://Users//crid2//beer_test_tflite', 'wb') as f:\n",
    "  f.write(tflite_model)\n"
   ]
  },
  {
   "cell_type": "code",
   "execution_count": 38,
   "id": "91642dc1",
   "metadata": {},
   "outputs": [
    {
     "data": {
      "text/plain": [
       "{'강서': 0,\n",
       " '강한 IPA': 1,\n",
       " '경복궁': 2,\n",
       " '골목대장': 3,\n",
       " '곰표밀맥주': 4,\n",
       " '곰표섬머에일': 5,\n",
       " '광화문': 6,\n",
       " '남산': 7,\n",
       " '대한 IPA': 8,\n",
       " '더프로미어오비': 9,\n",
       " '맥아더': 10,\n",
       " '상상페일에일': 11,\n",
       " '성산일출봉': 12,\n",
       " '아크': 13,\n",
       " '에일의 정석': 14,\n",
       " '여수-병맥주': 15,\n",
       " '오비': 16,\n",
       " '인생에일': 17,\n",
       " '제주백록담': 18,\n",
       " '제주위트에일': 19,\n",
       " '제주펠롱웨일': 20,\n",
       " '카스': 21,\n",
       " '카스제로': 22,\n",
       " '테라': 23,\n",
       " '퇴근길': 24,\n",
       " '하이트엑스트라콜드': 25,\n",
       " '하이트제로': 26,\n",
       " '하이트페일라거': 27,\n",
       " '한강': 28,\n",
       " '해운대': 29,\n",
       " '핸드앤몰트 유미의위트에일': 30,\n",
       " '흑당 밀키스타우트': 31,\n",
       " '흥청망청': 32}"
      ]
     },
     "execution_count": 38,
     "metadata": {},
     "output_type": "execute_result"
    }
   ],
   "source": [
    "train_generator.class_indices"
   ]
  },
  {
   "cell_type": "code",
   "execution_count": 47,
   "id": "c64778e1",
   "metadata": {},
   "outputs": [
    {
     "name": "stdout",
     "output_type": "stream",
     "text": [
      "pred -  [0. 0. 0. 0. 0. 0. 0. 0. 0. 0. 0. 1. 0. 0. 0. 0. 0. 0. 0. 0. 0. 0. 0. 0.\n",
      " 0. 0. 0. 0. 0. 0. 0. 0. 0.]\n"
     ]
    },
    {
     "data": {
      "text/plain": [
       "11"
      ]
     },
     "execution_count": 47,
     "metadata": {},
     "output_type": "execute_result"
    }
   ],
   "source": [
    "img_src = 'c://users/crid2/downloads/test/test05.jpg'\n",
    "test_img = image.load_img(img_src, target_size=(200, 200))\n",
    "x = image.img_to_array(test_img)\n",
    "x = np.expand_dims(x, axis = 0)\n",
    "image_ = np.vstack([x])\n",
    "classes = model.predict(image_, batch_size = 10)\n",
    "print('pred - ', classes[0])\n",
    "np.argmax(classes[0])\n"
   ]
  },
  {
   "cell_type": "code",
   "execution_count": null,
   "id": "18f66d1e",
   "metadata": {},
   "outputs": [],
   "source": []
  }
 ],
 "metadata": {
  "kernelspec": {
   "display_name": "Python 3 (ipykernel)",
   "language": "python",
   "name": "python3"
  },
  "language_info": {
   "codemirror_mode": {
    "name": "ipython",
    "version": 3
   },
   "file_extension": ".py",
   "mimetype": "text/x-python",
   "name": "python",
   "nbconvert_exporter": "python",
   "pygments_lexer": "ipython3",
   "version": "3.9.7"
  },
  "varInspector": {
   "cols": {
    "lenName": 16,
    "lenType": 16,
    "lenVar": 40
   },
   "kernels_config": {
    "python": {
     "delete_cmd_postfix": "",
     "delete_cmd_prefix": "del ",
     "library": "var_list.py",
     "varRefreshCmd": "print(var_dic_list())"
    },
    "r": {
     "delete_cmd_postfix": ") ",
     "delete_cmd_prefix": "rm(",
     "library": "var_list.r",
     "varRefreshCmd": "cat(var_dic_list()) "
    }
   },
   "types_to_exclude": [
    "module",
    "function",
    "builtin_function_or_method",
    "instance",
    "_Feature"
   ],
   "window_display": false
  }
 },
 "nbformat": 4,
 "nbformat_minor": 5
}
