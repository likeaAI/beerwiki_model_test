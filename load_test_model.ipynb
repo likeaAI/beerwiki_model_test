{
 "cells": [
  {
   "cell_type": "code",
   "execution_count": 1,
   "id": "403ac38d",
   "metadata": {},
   "outputs": [],
   "source": [
    "from tensorflow.keras.datasets   import boston_housing , mnist , fashion_mnist\n",
    "from tensorflow.keras.models     import Sequential , clone_model , Model , load_model\n",
    "from tensorflow.keras.layers     import Dense , Activation , InputLayer , Flatten , Input , BatchNormalization , Dropout , Embedding\n",
    "\n",
    "# CNN\n",
    "from tensorflow.keras.layers     import Conv2D , MaxPooling2D , AveragePooling2D\n",
    "\n",
    "from tensorflow.keras            import optimizers  \n",
    "from tensorflow.keras.callbacks  import EarlyStopping , ModelCheckpoint , Callback\n",
    "from tensorflow.keras.optimizers import SGD , Adam , RMSprop\n",
    "\n",
    "# 이미지 로드\n",
    "from tensorflow.keras.preprocessing import image\n",
    "from tensorflow.keras.preprocessing.image import ImageDataGenerator \n",
    "\n",
    "# 자연어 처리\n",
    "from tensorflow.keras.preprocessing.text          import Tokenizer\n",
    "from tensorflow.keras.preprocessing.sequence      import pad_sequences\n",
    "\n",
    "from keras.utils.np_utils      import to_categorical\n",
    "\n",
    "from sklearn.datasets          import load_iris , load_breast_cancer , load_digits\n",
    "from sklearn.model_selection   import train_test_split\n",
    "\n",
    "import matplotlib.pyplot as plt\n",
    "\n",
    "import tensorflow as tf\n",
    "import numpy  as np\n",
    "import pandas as pd"
   ]
  },
  {
   "cell_type": "code",
   "execution_count": 11,
   "id": "24ae7983",
   "metadata": {},
   "outputs": [
    {
     "name": "stdout",
     "output_type": "stream",
     "text": [
      "Found 5438 images belonging to 33 classes.\n"
     ]
    }
   ],
   "source": [
    "train_img_generator = ImageDataGenerator(rescale=1/255,\n",
    "                                        rotation_range=40,\n",
    "                                        width_shift_range=0.2,\n",
    "                                        height_shift_range=0.2,\n",
    "                                        shear_range=0.2,\n",
    "                                        zoom_range=0.2,\n",
    "                                        horizontal_flip=True,\n",
    "                                        fill_mode='nearest')\n",
    "train_generator = train_img_generator.flow_from_directory(\n",
    "    'C:/Users/crid2/ml-data/beertest/train' , \n",
    "    target_size = (200, 200) , \n",
    "    batch_size  = 20 ,\n",
    "    class_mode = 'categorical'\n",
    ")"
   ]
  },
  {
   "cell_type": "code",
   "execution_count": null,
   "id": "95471331",
   "metadata": {},
   "outputs": [],
   "source": [
    "test_img_generator = ImageDataGenerator(rescale=1/255,\n",
    "                                        rotation_range=40,\n",
    "                                        width_shift_range=0.2,\n",
    "                                        height_shift_range=0.2,\n",
    "                                        shear_range=0.2,\n",
    "                                        zoom_range=0.2,\n",
    "                                        horizontal_flip=True,\n",
    "                                        fill_mode='nearest')\n",
    "test_generator = test_img_generator.flow_from_directory(\n",
    "    'C:/Users/crid2/ml-data/beertest/test' , \n",
    "    target_size = (200, 200) , \n",
    "    batch_size  = 20 ,\n",
    "    class_mode = 'categorical'\n",
    ")"
   ]
  },
  {
   "cell_type": "code",
   "execution_count": 6,
   "id": "5b2093fc",
   "metadata": {},
   "outputs": [],
   "source": [
    "# 모델로드 \n",
    "\n",
    "model = load_model('example-multi-case.h5')"
   ]
  },
  {
   "cell_type": "code",
   "execution_count": 27,
   "id": "9284c31d",
   "metadata": {},
   "outputs": [
    {
     "name": "stdout",
     "output_type": "stream",
     "text": [
      "Model: \"sequential_1\"\n",
      "_________________________________________________________________\n",
      " Layer (type)                Output Shape              Param #   \n",
      "=================================================================\n",
      " conv2d_4 (Conv2D)           (None, 198, 198, 16)      448       \n",
      "                                                                 \n",
      " activation_6 (Activation)   (None, 198, 198, 16)      0         \n",
      "                                                                 \n",
      " max_pooling2d_4 (MaxPooling  (None, 99, 99, 16)       0         \n",
      " 2D)                                                             \n",
      "                                                                 \n",
      " dropout_5 (Dropout)         (None, 99, 99, 16)        0         \n",
      "                                                                 \n",
      " conv2d_5 (Conv2D)           (None, 97, 97, 32)        4640      \n",
      "                                                                 \n",
      " activation_7 (Activation)   (None, 97, 97, 32)        0         \n",
      "                                                                 \n",
      " max_pooling2d_5 (MaxPooling  (None, 48, 48, 32)       0         \n",
      " 2D)                                                             \n",
      "                                                                 \n",
      " dropout_6 (Dropout)         (None, 48, 48, 32)        0         \n",
      "                                                                 \n",
      " conv2d_6 (Conv2D)           (None, 46, 46, 64)        18496     \n",
      "                                                                 \n",
      " activation_8 (Activation)   (None, 46, 46, 64)        0         \n",
      "                                                                 \n",
      " max_pooling2d_6 (MaxPooling  (None, 23, 23, 64)       0         \n",
      " 2D)                                                             \n",
      "                                                                 \n",
      " dropout_7 (Dropout)         (None, 23, 23, 64)        0         \n",
      "                                                                 \n",
      " conv2d_7 (Conv2D)           (None, 21, 21, 64)        36928     \n",
      "                                                                 \n",
      " activation_9 (Activation)   (None, 21, 21, 64)        0         \n",
      "                                                                 \n",
      " max_pooling2d_7 (MaxPooling  (None, 10, 10, 64)       0         \n",
      " 2D)                                                             \n",
      "                                                                 \n",
      " dropout_8 (Dropout)         (None, 10, 10, 64)        0         \n",
      "                                                                 \n",
      " flatten_1 (Flatten)         (None, 6400)              0         \n",
      "                                                                 \n",
      " dense_2 (Dense)             (None, 512)               3277312   \n",
      "                                                                 \n",
      " activation_10 (Activation)  (None, 512)               0         \n",
      "                                                                 \n",
      " dropout_9 (Dropout)         (None, 512)               0         \n",
      "                                                                 \n",
      " dense_3 (Dense)             (None, 33)                16929     \n",
      "                                                                 \n",
      " activation_11 (Activation)  (None, 33)                0         \n",
      "                                                                 \n",
      "=================================================================\n",
      "Total params: 3,354,753\n",
      "Trainable params: 3,354,753\n",
      "Non-trainable params: 0\n",
      "_________________________________________________________________\n"
     ]
    }
   ],
   "source": [
    "model.summary()"
   ]
  },
  {
   "cell_type": "code",
   "execution_count": 12,
   "id": "63ebc7de",
   "metadata": {},
   "outputs": [
    {
     "data": {
      "text/plain": [
       "{'강서': 0,\n",
       " '강한 IPA': 1,\n",
       " '경복궁': 2,\n",
       " '골목대장': 3,\n",
       " '곰표밀맥주': 4,\n",
       " '곰표섬머에일': 5,\n",
       " '광화문': 6,\n",
       " '남산': 7,\n",
       " '대한 IPA': 8,\n",
       " '더프로미어오비': 9,\n",
       " '맥아더': 10,\n",
       " '상상페일에일': 11,\n",
       " '성산일출봉': 12,\n",
       " '아크': 13,\n",
       " '에일의 정석': 14,\n",
       " '여수-병맥주': 15,\n",
       " '오비': 16,\n",
       " '인생에일': 17,\n",
       " '제주백록담': 18,\n",
       " '제주위트에일': 19,\n",
       " '제주펠롱웨일': 20,\n",
       " '카스': 21,\n",
       " '카스제로': 22,\n",
       " '테라': 23,\n",
       " '퇴근길': 24,\n",
       " '하이트엑스트라콜드': 25,\n",
       " '하이트제로': 26,\n",
       " '하이트페일라거': 27,\n",
       " '한강': 28,\n",
       " '해운대': 29,\n",
       " '핸드앤몰트 유미의위트에일': 30,\n",
       " '흑당 밀키스타우트': 31,\n",
       " '흥청망청': 32}"
      ]
     },
     "execution_count": 12,
     "metadata": {},
     "output_type": "execute_result"
    }
   ],
   "source": [
    "train_generator.class_indices"
   ]
  },
  {
   "cell_type": "code",
   "execution_count": 38,
   "id": "aa9733c8",
   "metadata": {},
   "outputs": [
    {
     "name": "stdout",
     "output_type": "stream",
     "text": [
      "pred -  [0. 0. 0. 0. 0. 0. 0. 0. 0. 0. 0. 0. 0. 0. 0. 0. 0. 0. 0. 0. 0. 1. 0. 0.\n",
      " 0. 0. 0. 0. 0. 0. 0. 0. 0.]\n"
     ]
    },
    {
     "data": {
      "text/plain": [
       "21"
      ]
     },
     "execution_count": 38,
     "metadata": {},
     "output_type": "execute_result"
    }
   ],
   "source": [
    "img_src = 'c://users/crid2/downloads/test/16.jpg'\n",
    "test_img = image.load_img(img_src, target_size=(200, 200))\n",
    "x = image.img_to_array(test_img)\n",
    "x = np.expand_dims(x, axis = 0)\n",
    "image_ = np.vstack([x])\n",
    "classes = model.predict(image_, batch_size = 10)\n",
    "print('pred - ', classes[0])\n",
    "np.argmax(classes[0])\n"
   ]
  }
 ],
 "metadata": {
  "kernelspec": {
   "display_name": "Python 3 (ipykernel)",
   "language": "python",
   "name": "python3"
  },
  "language_info": {
   "codemirror_mode": {
    "name": "ipython",
    "version": 3
   },
   "file_extension": ".py",
   "mimetype": "text/x-python",
   "name": "python",
   "nbconvert_exporter": "python",
   "pygments_lexer": "ipython3",
   "version": "3.9.7"
  },
  "varInspector": {
   "cols": {
    "lenName": 16,
    "lenType": 16,
    "lenVar": 40
   },
   "kernels_config": {
    "python": {
     "delete_cmd_postfix": "",
     "delete_cmd_prefix": "del ",
     "library": "var_list.py",
     "varRefreshCmd": "print(var_dic_list())"
    },
    "r": {
     "delete_cmd_postfix": ") ",
     "delete_cmd_prefix": "rm(",
     "library": "var_list.r",
     "varRefreshCmd": "cat(var_dic_list()) "
    }
   },
   "types_to_exclude": [
    "module",
    "function",
    "builtin_function_or_method",
    "instance",
    "_Feature"
   ],
   "window_display": false
  }
 },
 "nbformat": 4,
 "nbformat_minor": 5
}
