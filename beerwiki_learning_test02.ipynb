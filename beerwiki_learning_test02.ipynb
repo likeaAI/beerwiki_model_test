{
 "cells": [
  {
   "cell_type": "code",
   "execution_count": 3,
   "id": "b26bca28",
   "metadata": {},
   "outputs": [],
   "source": [
    "from tensorflow.keras.datasets   import boston_housing , mnist , fashion_mnist\n",
    "from tensorflow.keras.models     import Sequential , clone_model , Model , load_model\n",
    "from tensorflow.keras.layers     import Dense , Activation , InputLayer , Flatten , Input , BatchNormalization , Dropout , Embedding\n",
    "\n",
    "# CNN\n",
    "from tensorflow.keras.layers     import Conv2D , MaxPooling2D , AveragePooling2D\n",
    "\n",
    "from tensorflow.keras            import optimizers  \n",
    "from tensorflow.keras.callbacks  import EarlyStopping , ModelCheckpoint , Callback\n",
    "from tensorflow.keras.optimizers import SGD , Adam , RMSprop\n",
    "\n",
    "# 이미지 로드\n",
    "from tensorflow.keras.preprocessing import image\n",
    "from tensorflow.keras.preprocessing.image import ImageDataGenerator \n",
    "\n",
    "# 자연어 처리\n",
    "from tensorflow.keras.preprocessing.text          import Tokenizer\n",
    "from tensorflow.keras.preprocessing.sequence      import pad_sequences\n",
    "\n",
    "from keras.utils.np_utils      import to_categorical\n",
    "\n",
    "from sklearn.datasets          import load_iris , load_breast_cancer , load_digits\n",
    "from sklearn.model_selection   import train_test_split\n",
    "\n",
    "import matplotlib.pyplot as plt\n",
    "\n",
    "import tensorflow as tf\n",
    "import numpy  as np\n",
    "import pandas as pd\n"
   ]
  },
  {
   "cell_type": "code",
   "execution_count": 6,
   "id": "f04205fa",
   "metadata": {},
   "outputs": [
    {
     "name": "stdout",
     "output_type": "stream",
     "text": [
      "Found 600 images belonging to 3 classes.\n"
     ]
    }
   ],
   "source": [
    "train_img_generator = ImageDataGenerator(rescale=1/255,\n",
    "                                        rotation_range=40,\n",
    "                                        width_shift_range=0.2,\n",
    "                                        height_shift_range=0.2,\n",
    "                                        shear_range=0.2,\n",
    "                                        zoom_range=0.2,\n",
    "                                        horizontal_flip=True,\n",
    "                                        fill_mode='nearest')\n",
    "train_generator = train_img_generator.flow_from_directory(\n",
    "    'C:/Users/crid2/ml-data/beertest01/train' , \n",
    "    target_size = (100, 100) , \n",
    "    batch_size  = 40 ,\n",
    "    class_mode = 'categorical'\n",
    ")"
   ]
  },
  {
   "cell_type": "code",
   "execution_count": 7,
   "id": "0beea814",
   "metadata": {},
   "outputs": [
    {
     "name": "stdout",
     "output_type": "stream",
     "text": [
      "Found 48 images belonging to 3 classes.\n"
     ]
    }
   ],
   "source": [
    "test_img_generator = ImageDataGenerator(rescale=1/255,\n",
    "                                        rotation_range=40,\n",
    "                                        width_shift_range=0.2,\n",
    "                                        height_shift_range=0.2,\n",
    "                                        shear_range=0.2,\n",
    "                                        zoom_range=0.2,\n",
    "                                        horizontal_flip=True,\n",
    "                                        fill_mode='nearest')\n",
    "test_generator = test_img_generator.flow_from_directory(\n",
    "    'C:/Users/crid2/ml-data/beertest01/test' , \n",
    "    target_size = (100, 100) , \n",
    "    batch_size  = 40 ,\n",
    "    class_mode = 'categorical'\n",
    ")"
   ]
  },
  {
   "cell_type": "code",
   "execution_count": null,
   "id": "4237852c",
   "metadata": {},
   "outputs": [],
   "source": []
  },
  {
   "cell_type": "code",
   "execution_count": 8,
   "id": "a88b6467",
   "metadata": {},
   "outputs": [],
   "source": [
    "def img_model() :\n",
    "  img_model = Sequential()\n",
    "\n",
    "  img_model.add( Conv2D(input_shape = (100, 100, 3) , filters = 16 , kernel_size = (3,3) , strides = (1,1) , padding = 'valid') )\n",
    "  img_model.add( Activation('relu'))\n",
    "  img_model.add( MaxPooling2D(pool_size = (2,2) , padding = 'valid' ) )\n",
    "  img_model.add( Dropout(0.25) )\n",
    "      \n",
    "  img_model.add( Conv2D(filters = 32 , kernel_size = (3,3) , strides = (1,1) , padding = 'valid') )\n",
    "  img_model.add( Activation('relu'))\n",
    "  img_model.add( MaxPooling2D(pool_size = (2,2) , padding = 'valid' ) )\n",
    "  img_model.add( Dropout(0.25) )\n",
    "\n",
    "  img_model.add( Conv2D(filters = 64 , kernel_size = (3,3) , strides = (1,1) , padding = 'valid') )\n",
    "  img_model.add( Activation('relu'))\n",
    "  img_model.add( MaxPooling2D(pool_size = (2,2) , padding = 'valid' ) )\n",
    "  img_model.add( Dropout(0.25) )\n",
    "\n",
    "  img_model.add( Conv2D(filters = 64 , kernel_size = (3,3) , strides = (1,1) , padding = 'valid') )\n",
    "  img_model.add( Activation('relu'))\n",
    "  img_model.add( MaxPooling2D(pool_size = (2,2) , padding = 'valid' ) )\n",
    "  img_model.add( Dropout(0.25) )\n",
    "\n",
    "  img_model.add( Flatten() )\n",
    "  img_model.add( Dense(units = 512) )\n",
    "  img_model.add( Activation('relu') )\n",
    "  img_model.add( Dropout(0.25) )\n",
    "  \n",
    "  img_model.add( Dense(units = 3) )\n",
    "  img_model.add( Activation('softmax') )\n",
    "\n",
    "  return img_model \n"
   ]
  },
  {
   "cell_type": "code",
   "execution_count": 9,
   "id": "b77fc1ae",
   "metadata": {},
   "outputs": [
    {
     "name": "stdout",
     "output_type": "stream",
     "text": [
      "Model: \"sequential\"\n",
      "_________________________________________________________________\n",
      " Layer (type)                Output Shape              Param #   \n",
      "=================================================================\n",
      " conv2d (Conv2D)             (None, 98, 98, 16)        448       \n",
      "                                                                 \n",
      " activation (Activation)     (None, 98, 98, 16)        0         \n",
      "                                                                 \n",
      " max_pooling2d (MaxPooling2D  (None, 49, 49, 16)       0         \n",
      " )                                                               \n",
      "                                                                 \n",
      " dropout (Dropout)           (None, 49, 49, 16)        0         \n",
      "                                                                 \n",
      " conv2d_1 (Conv2D)           (None, 47, 47, 32)        4640      \n",
      "                                                                 \n",
      " activation_1 (Activation)   (None, 47, 47, 32)        0         \n",
      "                                                                 \n",
      " max_pooling2d_1 (MaxPooling  (None, 23, 23, 32)       0         \n",
      " 2D)                                                             \n",
      "                                                                 \n",
      " dropout_1 (Dropout)         (None, 23, 23, 32)        0         \n",
      "                                                                 \n",
      " conv2d_2 (Conv2D)           (None, 21, 21, 64)        18496     \n",
      "                                                                 \n",
      " activation_2 (Activation)   (None, 21, 21, 64)        0         \n",
      "                                                                 \n",
      " max_pooling2d_2 (MaxPooling  (None, 10, 10, 64)       0         \n",
      " 2D)                                                             \n",
      "                                                                 \n",
      " dropout_2 (Dropout)         (None, 10, 10, 64)        0         \n",
      "                                                                 \n",
      " conv2d_3 (Conv2D)           (None, 8, 8, 64)          36928     \n",
      "                                                                 \n",
      " activation_3 (Activation)   (None, 8, 8, 64)          0         \n",
      "                                                                 \n",
      " max_pooling2d_3 (MaxPooling  (None, 4, 4, 64)         0         \n",
      " 2D)                                                             \n",
      "                                                                 \n",
      " dropout_3 (Dropout)         (None, 4, 4, 64)          0         \n",
      "                                                                 \n",
      " flatten (Flatten)           (None, 1024)              0         \n",
      "                                                                 \n",
      " dense (Dense)               (None, 512)               524800    \n",
      "                                                                 \n",
      " activation_4 (Activation)   (None, 512)               0         \n",
      "                                                                 \n",
      " dropout_4 (Dropout)         (None, 512)               0         \n",
      "                                                                 \n",
      " dense_1 (Dense)             (None, 3)                 1539      \n",
      "                                                                 \n",
      " activation_5 (Activation)   (None, 3)                 0         \n",
      "                                                                 \n",
      "=================================================================\n",
      "Total params: 586,851\n",
      "Trainable params: 586,851\n",
      "Non-trainable params: 0\n",
      "_________________________________________________________________\n"
     ]
    }
   ],
   "source": [
    "model = img_model()\n",
    "model.summary()"
   ]
  },
  {
   "cell_type": "code",
   "execution_count": 10,
   "id": "7ce8c2bb",
   "metadata": {},
   "outputs": [
    {
     "name": "stderr",
     "output_type": "stream",
     "text": [
      "C:\\Users\\crid2\\anaconda3\\lib\\site-packages\\keras\\optimizer_v2\\rmsprop.py:130: UserWarning: The `lr` argument is deprecated, use `learning_rate` instead.\n",
      "  super(RMSprop, self).__init__(name, **kwargs)\n"
     ]
    }
   ],
   "source": [
    "model.compile(optimizer = RMSprop(lr = 0.001), \n",
    "                      loss= 'categorical_crossentropy' , \n",
    "                      metrics=['accuracy'] ) "
   ]
  },
  {
   "cell_type": "code",
   "execution_count": 11,
   "id": "db9b328d",
   "metadata": {},
   "outputs": [
    {
     "name": "stdout",
     "output_type": "stream",
     "text": [
      "Epoch 1/25\n",
      "15/15 [==============================] - 12s 657ms/step - loss: 1.2122 - accuracy: 0.5700 - val_loss: 1.0919 - val_accuracy: 0.3333\n",
      "Epoch 2/25\n",
      "15/15 [==============================] - 7s 473ms/step - loss: 0.8205 - accuracy: 0.5950 - val_loss: 0.9434 - val_accuracy: 0.6042\n",
      "Epoch 3/25\n",
      "15/15 [==============================] - 7s 483ms/step - loss: 0.7251 - accuracy: 0.6600 - val_loss: 0.8367 - val_accuracy: 0.5833\n",
      "Epoch 4/25\n",
      "15/15 [==============================] - 7s 497ms/step - loss: 0.5537 - accuracy: 0.7517 - val_loss: 0.8024 - val_accuracy: 0.5833\n",
      "Epoch 5/25\n",
      "15/15 [==============================] - 8s 529ms/step - loss: 0.6058 - accuracy: 0.7517 - val_loss: 0.7860 - val_accuracy: 0.6875\n",
      "Epoch 6/25\n",
      "15/15 [==============================] - 8s 525ms/step - loss: 0.4916 - accuracy: 0.7800 - val_loss: 0.8957 - val_accuracy: 0.6458\n",
      "Epoch 7/25\n",
      "15/15 [==============================] - 8s 539ms/step - loss: 0.5242 - accuracy: 0.8067 - val_loss: 0.6410 - val_accuracy: 0.7500\n",
      "Epoch 8/25\n",
      "15/15 [==============================] - 7s 500ms/step - loss: 0.4967 - accuracy: 0.7867 - val_loss: 0.6580 - val_accuracy: 0.7292\n",
      "Epoch 9/25\n",
      "15/15 [==============================] - 8s 525ms/step - loss: 0.4349 - accuracy: 0.8133 - val_loss: 0.5842 - val_accuracy: 0.8333\n",
      "Epoch 10/25\n",
      "15/15 [==============================] - 7s 491ms/step - loss: 0.4541 - accuracy: 0.8017 - val_loss: 0.6490 - val_accuracy: 0.8125\n",
      "Epoch 11/25\n",
      "15/15 [==============================] - 8s 504ms/step - loss: 0.3912 - accuracy: 0.8400 - val_loss: 0.6185 - val_accuracy: 0.7083\n",
      "Epoch 12/25\n",
      "15/15 [==============================] - 8s 527ms/step - loss: 0.4502 - accuracy: 0.8283 - val_loss: 0.7990 - val_accuracy: 0.5417\n",
      "Epoch 13/25\n",
      "15/15 [==============================] - 8s 489ms/step - loss: 0.3804 - accuracy: 0.8417 - val_loss: 0.5814 - val_accuracy: 0.7708\n",
      "Epoch 14/25\n",
      "15/15 [==============================] - 8s 514ms/step - loss: 0.3206 - accuracy: 0.8650 - val_loss: 0.5073 - val_accuracy: 0.7708\n",
      "Epoch 15/25\n",
      "15/15 [==============================] - 8s 539ms/step - loss: 0.3703 - accuracy: 0.8717 - val_loss: 0.5020 - val_accuracy: 0.9375\n",
      "Epoch 16/25\n",
      "15/15 [==============================] - 8s 522ms/step - loss: 0.3021 - accuracy: 0.8800 - val_loss: 0.4207 - val_accuracy: 0.8125\n",
      "Epoch 17/25\n",
      "15/15 [==============================] - 8s 540ms/step - loss: 0.3376 - accuracy: 0.8750 - val_loss: 0.6491 - val_accuracy: 0.7292\n",
      "Epoch 18/25\n",
      "15/15 [==============================] - 8s 540ms/step - loss: 0.3352 - accuracy: 0.8600 - val_loss: 0.4869 - val_accuracy: 0.8542\n",
      "Epoch 19/25\n",
      "15/15 [==============================] - 8s 523ms/step - loss: 0.2581 - accuracy: 0.8867 - val_loss: 0.6864 - val_accuracy: 0.8542\n",
      "Epoch 20/25\n",
      "15/15 [==============================] - 8s 505ms/step - loss: 0.2368 - accuracy: 0.9100 - val_loss: 0.4043 - val_accuracy: 0.9375\n",
      "Epoch 21/25\n",
      "15/15 [==============================] - 8s 519ms/step - loss: 0.2827 - accuracy: 0.9000 - val_loss: 0.4368 - val_accuracy: 0.8333\n",
      "Epoch 22/25\n",
      "15/15 [==============================] - 8s 532ms/step - loss: 0.2181 - accuracy: 0.9183 - val_loss: 0.3954 - val_accuracy: 0.8542\n",
      "Epoch 23/25\n",
      "15/15 [==============================] - 8s 522ms/step - loss: 0.2036 - accuracy: 0.9300 - val_loss: 0.3484 - val_accuracy: 0.9167\n",
      "Epoch 24/25\n",
      "15/15 [==============================] - 8s 519ms/step - loss: 0.2620 - accuracy: 0.9150 - val_loss: 0.3396 - val_accuracy: 0.8125\n",
      "Epoch 25/25\n",
      "15/15 [==============================] - 8s 498ms/step - loss: 0.1960 - accuracy: 0.9267 - val_loss: 0.2566 - val_accuracy: 0.9375\n"
     ]
    }
   ],
   "source": [
    "model_history = model.fit(train_generator , validation_data=test_generator, epochs = 25 ,  verbose = 1 )"
   ]
  },
  {
   "cell_type": "code",
   "execution_count": 12,
   "id": "b7853714",
   "metadata": {},
   "outputs": [
    {
     "name": "stdout",
     "output_type": "stream",
     "text": [
      "모델 저장\n",
      "INFO:tensorflow:Assets written to: exampe02-3model-case.h12\\assets\n"
     ]
    }
   ],
   "source": [
    "print('모델 저장')\n",
    "model.save('exampe02-3model-case.h12')"
   ]
  },
  {
   "cell_type": "code",
   "execution_count": 13,
   "id": "33586c8b",
   "metadata": {},
   "outputs": [
    {
     "ename": "NameError",
     "evalue": "name 'tflite_model' is not defined",
     "output_type": "error",
     "traceback": [
      "\u001b[1;31m---------------------------------------------------------------------------\u001b[0m",
      "\u001b[1;31mNameError\u001b[0m                                 Traceback (most recent call last)",
      "\u001b[1;32m~\\AppData\\Local\\Temp/ipykernel_5304/2462297919.py\u001b[0m in \u001b[0;36m<module>\u001b[1;34m\u001b[0m\n\u001b[0;32m      1\u001b[0m \u001b[1;32mwith\u001b[0m \u001b[0mopen\u001b[0m\u001b[1;33m(\u001b[0m\u001b[1;34m'C:/Users/crid2/ml-data/trainbeer_model_20220503test.tflite'\u001b[0m\u001b[1;33m,\u001b[0m \u001b[1;34m'wb'\u001b[0m\u001b[1;33m)\u001b[0m \u001b[1;32mas\u001b[0m \u001b[0mf\u001b[0m\u001b[1;33m:\u001b[0m\u001b[1;33m\u001b[0m\u001b[1;33m\u001b[0m\u001b[0m\n\u001b[1;32m----> 2\u001b[1;33m   \u001b[0mf\u001b[0m\u001b[1;33m.\u001b[0m\u001b[0mwrite\u001b[0m\u001b[1;33m(\u001b[0m\u001b[0mtflite_model\u001b[0m\u001b[1;33m)\u001b[0m\u001b[1;33m\u001b[0m\u001b[1;33m\u001b[0m\u001b[0m\n\u001b[0m",
      "\u001b[1;31mNameError\u001b[0m: name 'tflite_model' is not defined"
     ]
    }
   ],
   "source": [
    "with open('C:/Users/crid2/ml-data/trainbeer_model_20220503test.tflite', 'wb') as f:\n",
    "  f.write(tflite_model)\n"
   ]
  },
  {
   "cell_type": "code",
   "execution_count": 14,
   "id": "e1d2ce12",
   "metadata": {},
   "outputs": [
    {
     "data": {
      "image/png": "[encoded data removed]",
      "text/plain": [
       "<Figure size 432x288 with 1 Axes>"
      ]
     },
     "metadata": {
      "needs_background": "light"
     },
     "output_type": "display_data"
    },
    {
     "data": {
      "image/png": "[encoded data removed]",
      "text/plain": [
       "<Figure size 432x288 with 1 Axes>"
      ]
     },
     "metadata": {
      "needs_background": "light"
     },
     "output_type": "display_data"
    }
   ],
   "source": [
    "import matplotlib.pyplot as plt\n",
    "\n",
    "acc = model_history.history['accuracy']\n",
    "val_acc = model_history.history['val_accuracy']\n",
    "loss = model_history.history['loss']\n",
    "val_loss = model_history.history['val_loss']\n",
    "\n",
    "epochs = range(len(acc))\n",
    "\n",
    "plt.plot(epochs, acc, 'bo', label='Training accuracy')\n",
    "plt.plot(epochs, val_acc, 'b', label='Validation accuracy')\n",
    "plt.title('Training and validation accuracy')\n",
    "plt.legend()\n",
    "\n",
    "plt.figure()\n",
    "\n",
    "plt.plot(epochs, loss, 'go', label='Training Loss')\n",
    "plt.plot(epochs, val_loss, 'g', label='Validation Loss')\n",
    "plt.title('Training and validation loss')\n",
    "plt.legend()\n",
    "\n",
    "plt.show()"
   ]
  },
  {
   "cell_type": "code",
   "execution_count": null,
   "id": "09b30a56",
   "metadata": {},
   "outputs": [],
   "source": []
  },
  {
   "cell_type": "code",
   "execution_count": null,
   "id": "797cbdf8",
   "metadata": {},
   "outputs": [],
   "source": []
  },
  {
   "cell_type": "code",
   "execution_count": null,
   "id": "0924cd52",
   "metadata": {},
   "outputs": [],
   "source": []
  }
 ],
 "metadata": {
  "kernelspec": {
   "display_name": "Python 3 (ipykernel)",
   "language": "python",
   "name": "python3"
  },
  "language_info": {
   "codemirror_mode": {
    "name": "ipython",
    "version": 3
   },
   "file_extension": ".py",
   "mimetype": "text/x-python",
   "name": "python",
   "nbconvert_exporter": "python",
   "pygments_lexer": "ipython3",
   "version": "3.9.7"
  },
  "varInspector": {
   "cols": {
    "lenName": 16,
    "lenType": 16,
    "lenVar": 40
   },
   "kernels_config": {
    "python": {
     "delete_cmd_postfix": "",
     "delete_cmd_prefix": "del ",
     "library": "var_list.py",
     "varRefreshCmd": "print(var_dic_list())"
    },
    "r": {
     "delete_cmd_postfix": ") ",
     "delete_cmd_prefix": "rm(",
     "library": "var_list.r",
     "varRefreshCmd": "cat(var_dic_list()) "
    }
   },
   "types_to_exclude": [
    "module",
    "function",
    "builtin_function_or_method",
    "instance",
    "_Feature"
   ],
   "window_display": false
  }
 },
 "nbformat": 4,
 "nbformat_minor": 5
}
