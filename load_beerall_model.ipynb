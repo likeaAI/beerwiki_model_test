{
 "cells": [
  {
   "cell_type": "code",
   "execution_count": 1,
   "id": "403ac38d",
   "metadata": {},
   "outputs": [],
   "source": [
    "from tensorflow.keras.datasets   import boston_housing , mnist , fashion_mnist\n",
    "from tensorflow.keras.models     import Sequential , clone_model , Model , load_model\n",
    "from tensorflow.keras.layers     import Dense , Activation , InputLayer , Flatten , Input , BatchNormalization , Dropout , Embedding\n",
    "\n",
    "# CNN\n",
    "from tensorflow.keras.layers     import Conv2D , MaxPooling2D , AveragePooling2D\n",
    "\n",
    "from tensorflow.keras            import optimizers  \n",
    "from tensorflow.keras.callbacks  import EarlyStopping , ModelCheckpoint , Callback\n",
    "from tensorflow.keras.optimizers import SGD , Adam , RMSprop\n",
    "\n",
    "# 이미지 로드\n",
    "from tensorflow.keras.preprocessing import image\n",
    "from tensorflow.keras.preprocessing.image import ImageDataGenerator \n",
    "\n",
    "# 자연어 처리\n",
    "from tensorflow.keras.preprocessing.text          import Tokenizer\n",
    "from tensorflow.keras.preprocessing.sequence      import pad_sequences\n",
    "\n",
    "from keras.utils.np_utils      import to_categorical\n",
    "\n",
    "from sklearn.datasets          import load_iris , load_breast_cancer , load_digits\n",
    "from sklearn.model_selection   import train_test_split\n",
    "\n",
    "import matplotlib.pyplot as plt\n",
    "\n",
    "import tensorflow as tf\n",
    "import numpy  as np\n",
    "import pandas as pd"
   ]
  },
  {
   "cell_type": "code",
   "execution_count": 2,
   "id": "605f277f",
   "metadata": {},
   "outputs": [
    {
     "name": "stdout",
     "output_type": "stream",
     "text": [
      "Found 916 images belonging to 75 classes.\n"
     ]
    }
   ],
   "source": [
    "train_img_generator = ImageDataGenerator(rescale=1/255,\n",
    "                                        rotation_range=40,\n",
    "                                        width_shift_range=0.2,\n",
    "                                        height_shift_range=0.2,\n",
    "                                        shear_range=0.2,\n",
    "                                        zoom_range=0.2,\n",
    "                                        horizontal_flip=True,\n",
    "                                        fill_mode='nearest')\n",
    "train_generator = train_img_generator.flow_from_directory(\n",
    "    'C:/Users/crid2/ml-data/beerall' ,\n",
    "    target_size = (244, 244) , \n",
    "    batch_size  = 20,\n",
    "    class_mode = 'categorical'\n",
    ")"
   ]
  },
  {
   "cell_type": "code",
   "execution_count": 5,
   "id": "5b2093fc",
   "metadata": {},
   "outputs": [],
   "source": [
    "# 모델로드 \n",
    "\n",
    "model = load_model('beerall.h5')"
   ]
  },
  {
   "cell_type": "code",
   "execution_count": 6,
   "id": "9284c31d",
   "metadata": {},
   "outputs": [
    {
     "name": "stdout",
     "output_type": "stream",
     "text": [
      "Model: \"sequential_3\"\n",
      "_________________________________________________________________\n",
      " Layer (type)                Output Shape              Param #   \n",
      "=================================================================\n",
      " conv2d_11 (Conv2D)          (None, 242, 242, 16)      448       \n",
      "                                                                 \n",
      " activation_17 (Activation)  (None, 242, 242, 16)      0         \n",
      "                                                                 \n",
      " max_pooling2d_11 (MaxPoolin  (None, 121, 121, 16)     0         \n",
      " g2D)                                                            \n",
      "                                                                 \n",
      " dropout_14 (Dropout)        (None, 121, 121, 16)      0         \n",
      "                                                                 \n",
      " conv2d_12 (Conv2D)          (None, 119, 119, 32)      4640      \n",
      "                                                                 \n",
      " activation_18 (Activation)  (None, 119, 119, 32)      0         \n",
      "                                                                 \n",
      " max_pooling2d_12 (MaxPoolin  (None, 59, 59, 32)       0         \n",
      " g2D)                                                            \n",
      "                                                                 \n",
      " dropout_15 (Dropout)        (None, 59, 59, 32)        0         \n",
      "                                                                 \n",
      " conv2d_13 (Conv2D)          (None, 57, 57, 64)        18496     \n",
      "                                                                 \n",
      " activation_19 (Activation)  (None, 57, 57, 64)        0         \n",
      "                                                                 \n",
      " max_pooling2d_13 (MaxPoolin  (None, 28, 28, 64)       0         \n",
      " g2D)                                                            \n",
      "                                                                 \n",
      " dropout_16 (Dropout)        (None, 28, 28, 64)        0         \n",
      "                                                                 \n",
      " conv2d_14 (Conv2D)          (None, 26, 26, 64)        36928     \n",
      "                                                                 \n",
      " activation_20 (Activation)  (None, 26, 26, 64)        0         \n",
      "                                                                 \n",
      " max_pooling2d_14 (MaxPoolin  (None, 13, 13, 64)       0         \n",
      " g2D)                                                            \n",
      "                                                                 \n",
      " dropout_17 (Dropout)        (None, 13, 13, 64)        0         \n",
      "                                                                 \n",
      " flatten_3 (Flatten)         (None, 10816)             0         \n",
      "                                                                 \n",
      " dense_6 (Dense)             (None, 2048)              22153216  \n",
      "                                                                 \n",
      " activation_21 (Activation)  (None, 2048)              0         \n",
      "                                                                 \n",
      " dropout_18 (Dropout)        (None, 2048)              0         \n",
      "                                                                 \n",
      " dense_7 (Dense)             (None, 75)                153675    \n",
      "                                                                 \n",
      " activation_22 (Activation)  (None, 75)                0         \n",
      "                                                                 \n",
      "=================================================================\n",
      "Total params: 22,367,403\n",
      "Trainable params: 22,367,403\n",
      "Non-trainable params: 0\n",
      "_________________________________________________________________\n"
     ]
    }
   ],
   "source": [
    "model.summary()\n"
   ]
  },
  {
   "cell_type": "code",
   "execution_count": 3,
   "id": "63ebc7de",
   "metadata": {},
   "outputs": [
    {
     "data": {
      "text/plain": [
       "{'kgb라벨': 0,\n",
       " '강서': 1,\n",
       " '강한IPA': 2,\n",
       " '경복궁': 3,\n",
       " '골목대장': 4,\n",
       " '곰표밀맥주': 5,\n",
       " '곰표섬머에일': 6,\n",
       " '광화문': 7,\n",
       " '구스아일랜드 라벨': 8,\n",
       " '구스아일랜드312 라벨': 9,\n",
       " '기네스 라벨': 10,\n",
       " '기린이치방 라벨': 11,\n",
       " '남산': 12,\n",
       " '대한IPA': 13,\n",
       " '더브로미어오비': 14,\n",
       " '데스페라도 라벨': 15,\n",
       " '라이거바이젠 라벨': 16,\n",
       " '맥아더': 17,\n",
       " '밀러 라벨': 18,\n",
       " '버니니 딸기 라벨': 19,\n",
       " '버니니 레몬 라벨': 20,\n",
       " '버드와이저': 21,\n",
       " '베이프그린 라벨': 22,\n",
       " '베이프블루 라벨': 23,\n",
       " '블랑 라벨': 24,\n",
       " '산미구엘 라벨': 25,\n",
       " '삿포로 라벨': 26,\n",
       " '상상페일에일': 27,\n",
       " '성산일출봉': 28,\n",
       " '수입맥주': 29,\n",
       " '스텔라 라벨': 30,\n",
       " '썸머스비 라벨': 31,\n",
       " '아사히 라벨': 32,\n",
       " '아크': 33,\n",
       " '애플폭스 라벨': 34,\n",
       " '에델바이스 라벨': 35,\n",
       " '에델바이스 피치 라벨': 36,\n",
       " '에딩거 라벨': 37,\n",
       " '에일의정석': 38,\n",
       " '여수-병맥주': 39,\n",
       " '예거 라들러 노랑 라벨': 40,\n",
       " '예거 라들러 분홍 라벨': 41,\n",
       " '예거 라들러 주황 라벨': 42,\n",
       " '오비': 43,\n",
       " '오타크링거 라벨': 44,\n",
       " '인생에일': 45,\n",
       " '제주백록담': 46,\n",
       " '제주위트에일': 47,\n",
       " '제주펠롱웨일': 48,\n",
       " '칭따오라벨': 49,\n",
       " '카스': 50,\n",
       " '카스제로': 51,\n",
       " '칼스버그 라벨': 52,\n",
       " '코로나 라벨': 53,\n",
       " '코젤다크 라벨': 54,\n",
       " '타이거 라벨': 55,\n",
       " '타이거 자몽 라벨': 56,\n",
       " '타이거레몬 라벨': 57,\n",
       " '테라': 58,\n",
       " '퇴근길': 59,\n",
       " '트롤브루 라벨': 60,\n",
       " '파슨스 블루레이블 라벨': 61,\n",
       " '파울라너 라벨': 62,\n",
       " '필스너우르켈 라벨': 63,\n",
       " '하이네켄 라벨': 64,\n",
       " '하이트엑스트라콜드': 65,\n",
       " '하이트제로': 66,\n",
       " '하이트페일라거': 67,\n",
       " '한강': 68,\n",
       " '해운대': 69,\n",
       " '핸드앤몰트 유미의위트에일': 70,\n",
       " '호가든 블루 라벨': 71,\n",
       " '호가든로제 라벨': 72,\n",
       " '흑당 밀키스타우트': 73,\n",
       " '흥청망청': 74}"
      ]
     },
     "execution_count": 3,
     "metadata": {},
     "output_type": "execute_result"
    }
   ],
   "source": [
    "train_generator.class_indices"
   ]
  },
  {
   "cell_type": "code",
   "execution_count": 30,
   "id": "aa9733c8",
   "metadata": {},
   "outputs": [
    {
     "name": "stdout",
     "output_type": "stream",
     "text": [
      "pred -  [0. 0. 0. 0. 0. 0. 0. 0. 0. 0. 0. 0. 0. 0. 0. 0. 0. 0. 0. 0. 0. 0. 0. 0.\n",
      " 0. 0. 0. 0. 0. 0. 0. 1. 0. 0. 0. 0. 0. 0. 0. 0. 0. 0. 0. 0. 0. 0. 0. 0.\n",
      " 0. 0. 0. 0. 0. 0. 0. 0. 0. 0. 0. 0. 0. 0. 0. 0. 0. 0. 0. 0. 0. 0. 0. 0.\n",
      " 0. 0. 0.]\n"
     ]
    },
    {
     "data": {
      "text/plain": [
       "31"
      ]
     },
     "execution_count": 30,
     "metadata": {},
     "output_type": "execute_result"
    }
   ],
   "source": [
    "img_src = 'c://users/crid2/downloads/test/27.jpg'\n",
    "test_img = image.load_img(img_src, target_size=(244, 244))\n",
    "x = image.img_to_array(test_img)\n",
    "x = np.expand_dims(x, axis = 0)\n",
    "image_ = np.vstack([x])\n",
    "classes = model.predict(image_, batch_size = 10)\n",
    "print('pred - ', classes[0])\n",
    "np.argmax(classes[0])\n"
   ]
  },
  {
   "cell_type": "code",
   "execution_count": null,
   "id": "8ebdc367",
   "metadata": {},
   "outputs": [],
   "source": []
  },
  {
   "cell_type": "code",
   "execution_count": null,
   "id": "e2ec156a",
   "metadata": {},
   "outputs": [],
   "source": []
  },
  {
   "cell_type": "code",
   "execution_count": null,
   "id": "f27f99b6",
   "metadata": {},
   "outputs": [],
   "source": []
  },
  {
   "cell_type": "code",
   "execution_count": null,
   "id": "c54ea590",
   "metadata": {},
   "outputs": [],
   "source": []
  },
  {
   "cell_type": "code",
   "execution_count": null,
   "id": "df9446f6",
   "metadata": {},
   "outputs": [],
   "source": []
  }
 ],
 "metadata": {
  "kernelspec": {
   "display_name": "Python 3 (ipykernel)",
   "language": "python",
   "name": "python3"
  },
  "language_info": {
   "codemirror_mode": {
    "name": "ipython",
    "version": 3
   },
   "file_extension": ".py",
   "mimetype": "text/x-python",
   "name": "python",
   "nbconvert_exporter": "python",
   "pygments_lexer": "ipython3",
   "version": "3.8.0"
  },
  "varInspector": {
   "cols": {
    "lenName": 16,
    "lenType": 16,
    "lenVar": 40
   },
   "kernels_config": {
    "python": {
     "delete_cmd_postfix": "",
     "delete_cmd_prefix": "del ",
     "library": "var_list.py",
     "varRefreshCmd": "print(var_dic_list())"
    },
    "r": {
     "delete_cmd_postfix": ") ",
     "delete_cmd_prefix": "rm(",
     "library": "var_list.r",
     "varRefreshCmd": "cat(var_dic_list()) "
    }
   },
   "types_to_exclude": [
    "module",
    "function",
    "builtin_function_or_method",
    "instance",
    "_Feature"
   ],
   "window_display": false
  }
 },
 "nbformat": 4,
 "nbformat_minor": 5
}
