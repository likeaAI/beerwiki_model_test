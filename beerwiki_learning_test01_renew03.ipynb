{
 "cells": [
  {
   "cell_type": "code",
   "execution_count": 1,
   "id": "b26bca28",
   "metadata": {},
   "outputs": [],
   "source": [
    "from tensorflow.keras.datasets   import boston_housing , mnist , fashion_mnist\n",
    "from tensorflow.keras.models     import Sequential , clone_model , Model , load_model\n",
    "from tensorflow.keras.layers     import Dense , Activation , InputLayer , Flatten , Input , BatchNormalization , Dropout , Embedding\n",
    "\n",
    "# CNN\n",
    "from tensorflow.keras.layers     import Conv2D , MaxPooling2D , AveragePooling2D\n",
    "\n",
    "from tensorflow.keras            import optimizers  \n",
    "from tensorflow.keras.callbacks  import EarlyStopping , ModelCheckpoint , Callback\n",
    "from tensorflow.keras.optimizers import SGD , Adam , RMSprop\n",
    "\n",
    "# 이미지 로드\n",
    "from tensorflow.keras.preprocessing import image\n",
    "from tensorflow.keras.preprocessing.image import ImageDataGenerator \n",
    "\n",
    "# 자연어 처리\n",
    "from tensorflow.keras.preprocessing.text          import Tokenizer\n",
    "from tensorflow.keras.preprocessing.sequence      import pad_sequences\n",
    "\n",
    "from keras.utils.np_utils      import to_categorical\n",
    "\n",
    "from sklearn.datasets          import load_iris , load_breast_cancer , load_digits\n",
    "from sklearn.model_selection   import train_test_split\n",
    "\n",
    "import matplotlib.pyplot as plt\n",
    "\n",
    "import tensorflow as tf\n",
    "import numpy  as np\n",
    "import pandas as pd\n"
   ]
  },
  {
   "cell_type": "code",
   "execution_count": 2,
   "id": "f04205fa",
   "metadata": {},
   "outputs": [
    {
     "name": "stdout",
     "output_type": "stream",
     "text": [
      "Found 5911 images belonging to 34 classes.\n"
     ]
    }
   ],
   "source": [
    "train_img_generator = ImageDataGenerator(rescale=1/255,\n",
    "                                        rotation_range=40,\n",
    "                                        width_shift_range=0.2,\n",
    "                                        height_shift_range=0.2,\n",
    "                                        shear_range=0.2,\n",
    "                                        zoom_range=0.2,\n",
    "                                        horizontal_flip=True,\n",
    "                                        fill_mode='nearest')\n",
    "train_generator = train_img_generator.flow_from_directory(\n",
    "    'C:/Users/crid2/ml-data/beertest04/train' , \n",
    "    target_size = (244, 244) , # 200->244\n",
    "    batch_size  = 20 ,\n",
    "    class_mode = 'categorical'\n",
    ")"
   ]
  },
  {
   "cell_type": "code",
   "execution_count": 3,
   "id": "0beea814",
   "metadata": {},
   "outputs": [
    {
     "name": "stdout",
     "output_type": "stream",
     "text": [
      "Found 224 images belonging to 34 classes.\n"
     ]
    }
   ],
   "source": [
    "test_img_generator = ImageDataGenerator(rescale=1/255,\n",
    "                                        rotation_range=40,\n",
    "                                        width_shift_range=0.2,\n",
    "                                        height_shift_range=0.2,\n",
    "                                        shear_range=0.2,\n",
    "                                        zoom_range=0.2,\n",
    "                                        horizontal_flip=True,\n",
    "                                        fill_mode='nearest')\n",
    "test_generator = test_img_generator.flow_from_directory(\n",
    "    'C:/Users/crid2/ml-data/beertest04/test' , \n",
    "    target_size = (244, 244) , \n",
    "    batch_size  = 20 ,\n",
    "    class_mode = 'categorical'\n",
    ")"
   ]
  },
  {
   "cell_type": "code",
   "execution_count": 4,
   "id": "a88b6467",
   "metadata": {},
   "outputs": [],
   "source": [
    "def img_model() :\n",
    "  img_model = Sequential()\n",
    "\n",
    "  img_model.add( Conv2D(input_shape = (244, 244, 3) , filters = 16 , kernel_size = (3,3) , strides = (1,1) , padding = 'valid') )\n",
    "  img_model.add( Activation('relu'))\n",
    "  img_model.add( MaxPooling2D(pool_size = (2,2) , padding = 'valid' ) )\n",
    "  \n",
    "      \n",
    "  img_model.add( Conv2D(filters = 32 , kernel_size = (3,3) , strides = (1,1) , padding = 'valid') )\n",
    "  img_model.add( Activation('relu'))\n",
    "  img_model.add( MaxPooling2D(pool_size = (2,2) , padding = 'valid' ) )\n",
    "  \n",
    "\n",
    "  img_model.add( Conv2D(filters = 64 , kernel_size = (3,3) , strides = (1,1) , padding = 'valid') )\n",
    "  img_model.add( Activation('relu'))\n",
    "  img_model.add( MaxPooling2D(pool_size = (2,2) , padding = 'valid' ) )\n",
    "  \n",
    "\n",
    "  img_model.add( Conv2D(filters = 64 , kernel_size = (3,3) , strides = (1,1) , padding = 'valid') )\n",
    "  img_model.add( Activation('relu'))\n",
    "  img_model.add( MaxPooling2D(pool_size = (2,2) , padding = 'valid' ) )\n",
    " \n",
    "  \n",
    "  img_model.add( Conv2D(filters = 64 , kernel_size = (3,3) , strides = (1,1) , padding = 'valid') )\n",
    "  img_model.add( Activation('relu'))\n",
    "  img_model.add( MaxPooling2D(pool_size = (2,2) , padding = 'valid' ) ) \n",
    "\n",
    "    \n",
    "  img_model.add( Flatten() )\n",
    "  img_model.add( Dense(units = 1024) )   # 1024 뉴런을 신규 추가했다. 특성을 좀더 여러개로 볼수있을것이다. \n",
    "  img_model.add( Activation('relu') )    # 드랍아웃을 0.5로 증가했다. 과연?\n",
    "  img_model.add( Dropout(0.5) )\n",
    "    \n",
    "  img_model.add( Dense(units = 512) )  \n",
    "  img_model.add( Activation('relu') )\n",
    "    \n",
    "  img_model.add( Dense(units = 256) )  \n",
    "  img_model.add( Activation('relu') )  \n",
    "\n",
    "    \n",
    "  \n",
    "  img_model.add( Dense(units = 34) ) # 33->34 증가 \n",
    "  img_model.add( Activation('softmax') )\n",
    "\n",
    "  return img_model \n"
   ]
  },
  {
   "cell_type": "code",
   "execution_count": 5,
   "id": "b77fc1ae",
   "metadata": {
    "scrolled": true
   },
   "outputs": [
    {
     "name": "stdout",
     "output_type": "stream",
     "text": [
      "Model: \"sequential\"\n",
      "_________________________________________________________________\n",
      " Layer (type)                Output Shape              Param #   \n",
      "=================================================================\n",
      " conv2d (Conv2D)             (None, 242, 242, 16)      448       \n",
      "                                                                 \n",
      " activation (Activation)     (None, 242, 242, 16)      0         \n",
      "                                                                 \n",
      " max_pooling2d (MaxPooling2D  (None, 121, 121, 16)     0         \n",
      " )                                                               \n",
      "                                                                 \n",
      " conv2d_1 (Conv2D)           (None, 119, 119, 32)      4640      \n",
      "                                                                 \n",
      " activation_1 (Activation)   (None, 119, 119, 32)      0         \n",
      "                                                                 \n",
      " max_pooling2d_1 (MaxPooling  (None, 59, 59, 32)       0         \n",
      " 2D)                                                             \n",
      "                                                                 \n",
      " conv2d_2 (Conv2D)           (None, 57, 57, 64)        18496     \n",
      "                                                                 \n",
      " activation_2 (Activation)   (None, 57, 57, 64)        0         \n",
      "                                                                 \n",
      " max_pooling2d_2 (MaxPooling  (None, 28, 28, 64)       0         \n",
      " 2D)                                                             \n",
      "                                                                 \n",
      " conv2d_3 (Conv2D)           (None, 26, 26, 64)        36928     \n",
      "                                                                 \n",
      " activation_3 (Activation)   (None, 26, 26, 64)        0         \n",
      "                                                                 \n",
      " max_pooling2d_3 (MaxPooling  (None, 13, 13, 64)       0         \n",
      " 2D)                                                             \n",
      "                                                                 \n",
      " conv2d_4 (Conv2D)           (None, 11, 11, 64)        36928     \n",
      "                                                                 \n",
      " activation_4 (Activation)   (None, 11, 11, 64)        0         \n",
      "                                                                 \n",
      " max_pooling2d_4 (MaxPooling  (None, 5, 5, 64)         0         \n",
      " 2D)                                                             \n",
      "                                                                 \n",
      " flatten (Flatten)           (None, 1600)              0         \n",
      "                                                                 \n",
      " dense (Dense)               (None, 1024)              1639424   \n",
      "                                                                 \n",
      " activation_5 (Activation)   (None, 1024)              0         \n",
      "                                                                 \n",
      " dropout (Dropout)           (None, 1024)              0         \n",
      "                                                                 \n",
      " dense_1 (Dense)             (None, 512)               524800    \n",
      "                                                                 \n",
      " activation_6 (Activation)   (None, 512)               0         \n",
      "                                                                 \n",
      " dense_2 (Dense)             (None, 256)               131328    \n",
      "                                                                 \n",
      " activation_7 (Activation)   (None, 256)               0         \n",
      "                                                                 \n",
      " dense_3 (Dense)             (None, 34)                8738      \n",
      "                                                                 \n",
      " activation_8 (Activation)   (None, 34)                0         \n",
      "                                                                 \n",
      "=================================================================\n",
      "Total params: 2,401,730\n",
      "Trainable params: 2,401,730\n",
      "Non-trainable params: 0\n",
      "_________________________________________________________________\n"
     ]
    }
   ],
   "source": [
    "model = img_model()\n",
    "model.summary()"
   ]
  },
  {
   "cell_type": "code",
   "execution_count": 6,
   "id": "7ce8c2bb",
   "metadata": {
    "scrolled": true
   },
   "outputs": [
    {
     "name": "stderr",
     "output_type": "stream",
     "text": [
      "C:\\Users\\crid2\\anaconda3\\lib\\site-packages\\keras\\optimizer_v2\\rmsprop.py:130: UserWarning: The `lr` argument is deprecated, use `learning_rate` instead.\n",
      "  super(RMSprop, self).__init__(name, **kwargs)\n"
     ]
    }
   ],
   "source": [
    "model.compile(optimizer = RMSprop(lr = 0.001), \n",
    "                      loss= 'categorical_crossentropy' , \n",
    "                      metrics=['accuracy']\n",
    "             ) "
   ]
  },
  {
   "cell_type": "code",
   "execution_count": 7,
   "id": "db9b328d",
   "metadata": {},
   "outputs": [
    {
     "name": "stdout",
     "output_type": "stream",
     "text": [
      "Epoch 1/25\n",
      "296/296 [==============================] - 137s 452ms/step - loss: 3.1570 - accuracy: 0.1144 - val_loss: 3.1143 - val_accuracy: 0.1116\n",
      "Epoch 2/25\n",
      "296/296 [==============================] - 130s 440ms/step - loss: 2.7046 - accuracy: 0.2091 - val_loss: 2.6957 - val_accuracy: 0.2098\n",
      "Epoch 3/25\n",
      "296/296 [==============================] - 118s 394ms/step - loss: 2.2859 - accuracy: 0.3372 - val_loss: 2.4042 - val_accuracy: 0.3125\n",
      "Epoch 4/25\n",
      "296/296 [==============================] - 117s 396ms/step - loss: 1.8973 - accuracy: 0.4409 - val_loss: 2.0130 - val_accuracy: 0.4107\n",
      "Epoch 5/25\n",
      "296/296 [==============================] - 125s 424ms/step - loss: 1.7153 - accuracy: 0.5070 - val_loss: 1.9840 - val_accuracy: 0.4420\n",
      "Epoch 6/25\n",
      "296/296 [==============================] - 120s 405ms/step - loss: 1.5026 - accuracy: 0.5708 - val_loss: 1.4373 - val_accuracy: 0.5714\n",
      "Epoch 7/25\n",
      "296/296 [==============================] - 118s 398ms/step - loss: 1.3446 - accuracy: 0.6248 - val_loss: 1.3477 - val_accuracy: 0.5982\n",
      "Epoch 8/25\n",
      "296/296 [==============================] - 109s 369ms/step - loss: 1.2552 - accuracy: 0.6594 - val_loss: 1.8512 - val_accuracy: 0.5223\n",
      "Epoch 9/25\n",
      "296/296 [==============================] - 109s 369ms/step - loss: 1.1589 - accuracy: 0.6848 - val_loss: 1.1226 - val_accuracy: 0.6652\n",
      "Epoch 10/25\n",
      "296/296 [==============================] - 112s 378ms/step - loss: 1.0708 - accuracy: 0.7066 - val_loss: 1.9358 - val_accuracy: 0.5491\n",
      "Epoch 11/25\n",
      "296/296 [==============================] - 109s 368ms/step - loss: 1.0509 - accuracy: 0.7347 - val_loss: 1.0781 - val_accuracy: 0.7143\n",
      "Epoch 12/25\n",
      "296/296 [==============================] - 109s 369ms/step - loss: 1.0333 - accuracy: 0.7381 - val_loss: 0.8343 - val_accuracy: 0.7500\n",
      "Epoch 13/25\n",
      "296/296 [==============================] - 109s 369ms/step - loss: 0.9916 - accuracy: 0.7476 - val_loss: 0.8378 - val_accuracy: 0.7545\n",
      "Epoch 14/25\n",
      "296/296 [==============================] - 109s 368ms/step - loss: 0.9735 - accuracy: 0.7589 - val_loss: 1.0756 - val_accuracy: 0.6786\n",
      "Epoch 15/25\n",
      "296/296 [==============================] - 109s 368ms/step - loss: 1.0123 - accuracy: 0.7473 - val_loss: 0.9038 - val_accuracy: 0.7545\n",
      "Epoch 16/25\n",
      "296/296 [==============================] - 109s 369ms/step - loss: 1.0483 - accuracy: 0.7395 - val_loss: 1.1328 - val_accuracy: 0.6964\n",
      "Epoch 17/25\n",
      "296/296 [==============================] - 109s 368ms/step - loss: 1.0578 - accuracy: 0.7413 - val_loss: 1.0269 - val_accuracy: 0.7277\n",
      "Epoch 18/25\n",
      "296/296 [==============================] - 109s 369ms/step - loss: 1.1150 - accuracy: 0.7457 - val_loss: 0.9740 - val_accuracy: 0.7768\n",
      "Epoch 19/25\n",
      "296/296 [==============================] - 109s 368ms/step - loss: 1.1309 - accuracy: 0.7381 - val_loss: 1.5640 - val_accuracy: 0.6027\n",
      "Epoch 20/25\n",
      "296/296 [==============================] - 109s 368ms/step - loss: 1.1082 - accuracy: 0.7429 - val_loss: 1.3052 - val_accuracy: 0.7500\n",
      "Epoch 21/25\n",
      "296/296 [==============================] - 109s 369ms/step - loss: 1.1596 - accuracy: 0.7366 - val_loss: 1.0296 - val_accuracy: 0.6652\n",
      "Epoch 22/25\n",
      "296/296 [==============================] - 111s 376ms/step - loss: 1.1500 - accuracy: 0.7368 - val_loss: 1.1806 - val_accuracy: 0.7188\n",
      "Epoch 23/25\n",
      "296/296 [==============================] - 116s 390ms/step - loss: 1.1532 - accuracy: 0.7276 - val_loss: 1.2998 - val_accuracy: 0.7143\n",
      "Epoch 24/25\n",
      "296/296 [==============================] - 110s 370ms/step - loss: 1.2177 - accuracy: 0.7334 - val_loss: 1.2252 - val_accuracy: 0.6786\n",
      "Epoch 25/25\n",
      "296/296 [==============================] - 110s 370ms/step - loss: 1.2474 - accuracy: 0.7283 - val_loss: 1.0329 - val_accuracy: 0.7143\n"
     ]
    }
   ],
   "source": [
    "model_history = model.fit(train_generator, validation_data=test_generator,epochs=25 ,verbose=1) "
   ]
  },
  {
   "cell_type": "code",
   "execution_count": 8,
   "id": "b7853714",
   "metadata": {},
   "outputs": [
    {
     "name": "stdout",
     "output_type": "stream",
     "text": [
      "모델 저장\n"
     ]
    }
   ],
   "source": [
    "print('모델 저장')\n",
    "model.save('beerwiki_testmodel_renew03.h5')"
   ]
  },
  {
   "cell_type": "code",
   "execution_count": 9,
   "id": "e1d2ce12",
   "metadata": {},
   "outputs": [
    {
     "data": {
      "image/png": "[encoded data removed]",
      "text/plain": [
       "<Figure size 432x288 with 1 Axes>"
      ]
     },
     "metadata": {
      "needs_background": "light"
     },
     "output_type": "display_data"
    },
    {
     "data": {
      "image/png": "[encoded data removed]",
      "text/plain": [
       "<Figure size 432x288 with 1 Axes>"
      ]
     },
     "metadata": {
      "needs_background": "light"
     },
     "output_type": "display_data"
    }
   ],
   "source": [
    "import matplotlib.pyplot as plt\n",
    "\n",
    "acc = model_history.history['accuracy']\n",
    "val_acc = model_history.history['val_accuracy']\n",
    "loss = model_history.history['loss']\n",
    "val_loss = model_history.history['val_loss']\n",
    "\n",
    "epochs = range(len(acc))\n",
    "\n",
    "plt.plot(epochs, acc, 'bo', label='Training accuracy')\n",
    "plt.plot(epochs, val_acc, 'b', label='Validation accuracy')\n",
    "plt.title('Training and validation accuracy')\n",
    "plt.legend()\n",
    "\n",
    "plt.figure()\n",
    "\n",
    "plt.plot(epochs, loss, 'go', label='Training Loss')\n",
    "plt.plot(epochs, val_loss, 'g', label='Validation Loss')\n",
    "plt.title('Training and validation loss')\n",
    "plt.legend()\n",
    "\n",
    "plt.show()"
   ]
  },
  {
   "cell_type": "code",
   "execution_count": 12,
   "id": "91642dc1",
   "metadata": {},
   "outputs": [
    {
     "data": {
      "text/plain": [
       "{'강서': 0,\n",
       " '강한IPA': 1,\n",
       " '경복궁': 2,\n",
       " '골목대장': 3,\n",
       " '곰표밀맥주': 4,\n",
       " '곰표섬머에일': 5,\n",
       " '광화문': 6,\n",
       " '남산': 7,\n",
       " '대한IPA': 8,\n",
       " '더프로미어오비': 9,\n",
       " '맥아더': 10,\n",
       " '상상페일에일': 11,\n",
       " '성산일출봉': 12,\n",
       " '아크': 13,\n",
       " '에일의정석': 14,\n",
       " '여수': 15,\n",
       " '오비': 16,\n",
       " '인생에일': 17,\n",
       " '제주백록담': 18,\n",
       " '제주위트에일': 19,\n",
       " '제주펠롱웨일': 20,\n",
       " '카스': 21,\n",
       " '카스라이트': 22,\n",
       " '카스제로': 23,\n",
       " '테라': 24,\n",
       " '퇴근길': 25,\n",
       " '하이트엑스트라콜드': 26,\n",
       " '하이트제로': 27,\n",
       " '하이트페일라거': 28,\n",
       " '한강': 29,\n",
       " '해운대': 30,\n",
       " '핸드앤몰트유미의위트에일': 31,\n",
       " '흑당밀키스타우트': 32,\n",
       " '흥청망청': 33}"
      ]
     },
     "execution_count": 12,
     "metadata": {},
     "output_type": "execute_result"
    }
   ],
   "source": [
    "train_generator.class_indices"
   ]
  },
  {
   "cell_type": "code",
   "execution_count": 17,
   "id": "c64778e1",
   "metadata": {},
   "outputs": [
    {
     "name": "stdout",
     "output_type": "stream",
     "text": [
      "pred -  [0. 0. 0. 0. 0. 0. 0. 0. 0. 0. 0. 0. 0. 0. 0. 0. 0. 0. 0. 0. 0. 0. 0. 0.\n",
      " 0. 0. 0. 0. 0. 1. 0. 0. 0. 0.]\n"
     ]
    },
    {
     "data": {
      "text/plain": [
       "29"
      ]
     },
     "execution_count": 17,
     "metadata": {},
     "output_type": "execute_result"
    }
   ],
   "source": [
    "img_src = 'c://users/crid2/downloads/test/22.jpg'\n",
    "test_img = image.load_img(img_src, target_size=(244, 244))\n",
    "x = image.img_to_array(test_img)\n",
    "x = np.expand_dims(x, axis = 0)\n",
    "image_ = np.vstack([x])\n",
    "classes = model.predict(image_, batch_size = 10)\n",
    "print('pred - ', classes[0])\n",
    "np.argmax(classes[0])\n"
   ]
  },
  {
   "cell_type": "code",
   "execution_count": null,
   "id": "18f66d1e",
   "metadata": {},
   "outputs": [],
   "source": []
  },
  {
   "cell_type": "code",
   "execution_count": null,
   "id": "65f894aa",
   "metadata": {},
   "outputs": [],
   "source": []
  }
 ],
 "metadata": {
  "kernelspec": {
   "display_name": "Python 3 (ipykernel)",
   "language": "python",
   "name": "python3"
  },
  "language_info": {
   "codemirror_mode": {
    "name": "ipython",
    "version": 3
   },
   "file_extension": ".py",
   "mimetype": "text/x-python",
   "name": "python",
   "nbconvert_exporter": "python",
   "pygments_lexer": "ipython3",
   "version": "3.9.7"
  },
  "varInspector": {
   "cols": {
    "lenName": 16,
    "lenType": 16,
    "lenVar": 40
   },
   "kernels_config": {
    "python": {
     "delete_cmd_postfix": "",
     "delete_cmd_prefix": "del ",
     "library": "var_list.py",
     "varRefreshCmd": "print(var_dic_list())"
    },
    "r": {
     "delete_cmd_postfix": ") ",
     "delete_cmd_prefix": "rm(",
     "library": "var_list.r",
     "varRefreshCmd": "cat(var_dic_list()) "
    }
   },
   "types_to_exclude": [
    "module",
    "function",
    "builtin_function_or_method",
    "instance",
    "_Feature"
   ],
   "window_display": false
  }
 },
 "nbformat": 4,
 "nbformat_minor": 5
}
